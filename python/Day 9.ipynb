{
 "cells": [
  {
   "cell_type": "code",
   "execution_count": 11,
   "metadata": {},
   "outputs": [],
   "source": [
    "test_input = '''35\n",
    "20\n",
    "15\n",
    "25\n",
    "47\n",
    "40\n",
    "62\n",
    "55\n",
    "65\n",
    "95\n",
    "102\n",
    "117\n",
    "150\n",
    "182\n",
    "127\n",
    "219\n",
    "299\n",
    "277\n",
    "309\n",
    "576'''.split('\\n')\n",
    "\n",
    "test_input = [int(val) for val in test_input]"
   ]
  },
  {
   "cell_type": "code",
   "execution_count": 50,
   "metadata": {},
   "outputs": [
    {
     "name": "stdout",
     "output_type": "stream",
     "text": [
      "Not found: 127\n"
     ]
    }
   ],
   "source": [
    "preamble = 5\n",
    "for idx, val in enumerate(test_input):\n",
    "    previous = test_input[idx-preamble:idx]\n",
    "    if idx > preamble:\n",
    "        tested = [num1 + num2 for num1 in previous for num2 in previous]\n",
    "        #print(val, tested)\n",
    "        if val not in tested:\n",
    "            print('Not found:', val)\n",
    "            break"
   ]
  },
  {
   "cell_type": "code",
   "execution_count": 45,
   "metadata": {},
   "outputs": [
    {
     "data": {
      "text/plain": [
       "[254,\n",
       " 346,\n",
       " 426,\n",
       " 404,\n",
       " 436,\n",
       " 346,\n",
       " 438,\n",
       " 518,\n",
       " 496,\n",
       " 528,\n",
       " 426,\n",
       " 518,\n",
       " 598,\n",
       " 576,\n",
       " 608,\n",
       " 404,\n",
       " 496,\n",
       " 576,\n",
       " 554,\n",
       " 586,\n",
       " 436,\n",
       " 528,\n",
       " 608,\n",
       " 586,\n",
       " 618]"
      ]
     },
     "execution_count": 45,
     "metadata": {},
     "output_type": "execute_result"
    }
   ],
   "source": [
    "[num1 + num2 for num1 in previous for num2 in previous]\n",
    "    "
   ]
  },
  {
   "cell_type": "code",
   "execution_count": 52,
   "metadata": {},
   "outputs": [],
   "source": [
    "with open('day9_input.txt') as f:\n",
    "    data = f.read().split('\\n')\n",
    "    \n",
    "data = [int(ii) for ii in data]"
   ]
  },
  {
   "cell_type": "code",
   "execution_count": 60,
   "metadata": {},
   "outputs": [],
   "source": [
    "def find_matching_value(test_input, preamble=25):\n",
    "    for idx, val in enumerate(test_input):\n",
    "        previous = test_input[idx-preamble:idx]\n",
    "        if idx > preamble:\n",
    "            tested = [num1 + num2 for num1 in previous for num2 in previous]\n",
    "            if val not in tested:\n",
    "                print('Not found:', val)\n",
    "                return val"
   ]
  },
  {
   "cell_type": "code",
   "execution_count": 61,
   "metadata": {},
   "outputs": [
    {
     "name": "stdout",
     "output_type": "stream",
     "text": [
      "Not found: 32321523\n"
     ]
    },
    {
     "data": {
      "text/plain": [
       "32321523"
      ]
     },
     "execution_count": 61,
     "metadata": {},
     "output_type": "execute_result"
    }
   ],
   "source": [
    "find_matching_value(data)"
   ]
  },
  {
   "cell_type": "markdown",
   "metadata": {},
   "source": [
    "## Task 2"
   ]
  },
  {
   "cell_type": "code",
   "execution_count": 102,
   "metadata": {},
   "outputs": [],
   "source": [
    "def find_group(test_input, stop_value):\n",
    "    for idx in range(len(test_input)):\n",
    "        for size in range(2, 25):\n",
    "            previous = test_input[idx-size:idx]\n",
    "            if (stop_value == sum(previous)):\n",
    "                return (min(previous) + max(previous), min(previous), max(previous), previous)        "
   ]
  },
  {
   "cell_type": "code",
   "execution_count": 103,
   "metadata": {},
   "outputs": [
    {
     "data": {
      "text/plain": [
       "(62, 15, 47, [15, 25, 47, 40])"
      ]
     },
     "execution_count": 103,
     "metadata": {},
     "output_type": "execute_result"
    }
   ],
   "source": [
    "find_group(test_input, 127)"
   ]
  },
  {
   "cell_type": "code",
   "execution_count": 104,
   "metadata": {},
   "outputs": [
    {
     "data": {
      "text/plain": [
       "(4794981,\n",
       " 1145730,\n",
       " 3649251,\n",
       " [1566342,\n",
       "  1145730,\n",
       "  1282129,\n",
       "  1629261,\n",
       "  1499646,\n",
       "  1420517,\n",
       "  2477809,\n",
       "  1488058,\n",
       "  2493554,\n",
       "  1569411,\n",
       "  1570745,\n",
       "  1594250,\n",
       "  2149605,\n",
       "  3057469,\n",
       "  1675049,\n",
       "  2052697,\n",
       "  3649251])"
      ]
     },
     "execution_count": 104,
     "metadata": {},
     "output_type": "execute_result"
    }
   ],
   "source": [
    "find_group(data, stop_value=32321523)"
   ]
  },
  {
   "cell_type": "markdown",
   "metadata": {},
   "source": [
    "### Better way?"
   ]
  },
  {
   "cell_type": "code",
   "execution_count": 105,
   "metadata": {},
   "outputs": [
    {
     "data": {
      "text/plain": [
       "[35,\n",
       " 20,\n",
       " 15,\n",
       " 25,\n",
       " 47,\n",
       " 40,\n",
       " 62,\n",
       " 55,\n",
       " 65,\n",
       " 95,\n",
       " 102,\n",
       " 117,\n",
       " 150,\n",
       " 182,\n",
       " 127,\n",
       " 219,\n",
       " 299,\n",
       " 277,\n",
       " 309,\n",
       " 576]"
      ]
     },
     "execution_count": 105,
     "metadata": {},
     "output_type": "execute_result"
    }
   ],
   "source": [
    "test_input"
   ]
  },
  {
   "cell_type": "code",
   "execution_count": 108,
   "metadata": {},
   "outputs": [
    {
     "data": {
      "text/plain": [
       "[0,\n",
       " 35,\n",
       " 55,\n",
       " 70,\n",
       " 95,\n",
       " 142,\n",
       " 182,\n",
       " 244,\n",
       " 299,\n",
       " 364,\n",
       " 459,\n",
       " 561,\n",
       " 678,\n",
       " 828,\n",
       " 1010,\n",
       " 1137,\n",
       " 1356,\n",
       " 1655,\n",
       " 1932,\n",
       " 2241]"
      ]
     },
     "execution_count": 108,
     "metadata": {},
     "output_type": "execute_result"
    }
   ],
   "source": [
    "summed_test_input = [(sum(test_input[:idx])) for idx, _ in enumerate(test_input)]\n",
    "summed_test_input"
   ]
  },
  {
   "cell_type": "code",
   "execution_count": 109,
   "metadata": {},
   "outputs": [
    {
     "data": {
      "text/plain": [
       "40"
      ]
     },
     "execution_count": 109,
     "metadata": {},
     "output_type": "execute_result"
    }
   ],
   "source": [
    "summed_test_input[4] - summed_test_input[2]"
   ]
  },
  {
   "cell_type": "code",
   "execution_count": 112,
   "metadata": {},
   "outputs": [
    {
     "data": {
      "text/plain": [
       "40"
      ]
     },
     "execution_count": 112,
     "metadata": {},
     "output_type": "execute_result"
    }
   ],
   "source": [
    "sum(test_input[2:4])"
   ]
  },
  {
   "cell_type": "code",
   "execution_count": null,
   "metadata": {},
   "outputs": [],
   "source": []
  }
 ],
 "metadata": {
  "kernelspec": {
   "display_name": "geocomp",
   "language": "python",
   "name": "geocomp"
  },
  "language_info": {
   "codemirror_mode": {
    "name": "ipython",
    "version": 3
   },
   "file_extension": ".py",
   "mimetype": "text/x-python",
   "name": "python",
   "nbconvert_exporter": "python",
   "pygments_lexer": "ipython3",
   "version": "3.8.3"
  }
 },
 "nbformat": 4,
 "nbformat_minor": 4
}
