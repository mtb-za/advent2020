{
 "cells": [
  {
   "cell_type": "code",
   "execution_count": 25,
   "metadata": {},
   "outputs": [],
   "source": [
    "test_data = '''ecl:gry pid:860033327 eyr:2020 hcl:#fffffd\n",
    "byr:1937 iyr:2017 cid:147 hgt:183cm\n",
    "\n",
    "iyr:2013 ecl:amb cid:350 eyr:2023 pid:028048884\n",
    "hcl:#cfa07d byr:1929\n",
    "\n",
    "hcl:#ae17e1 iyr:2013\n",
    "eyr:2024\n",
    "ecl:brn pid:760753108 byr:1931\n",
    "hgt:179cm\n",
    "\n",
    "hcl:#cfa07d eyr:2025 pid:166559648\n",
    "iyr:2011 ecl:brn hgt:59in\n",
    "'''.split('\\n')"
   ]
  },
  {
   "cell_type": "code",
   "execution_count": 79,
   "metadata": {},
   "outputs": [],
   "source": [
    "FIELDS = 'byr iyr eyr hgt hcl ecl pid'.split()"
   ]
  },
  {
   "cell_type": "code",
   "execution_count": 36,
   "metadata": {},
   "outputs": [],
   "source": [
    "with open('day4_input.txt') as f:\n",
    "    input_data = f.read().split('\\n')"
   ]
  },
  {
   "cell_type": "code",
   "execution_count": 130,
   "metadata": {},
   "outputs": [],
   "source": [
    "def gen_passport_dict(data):\n",
    "    passports = []\n",
    "    passport = {}\n",
    "    for line in data:\n",
    "        if not line:\n",
    "            passports.append(passport)\n",
    "            passport = {}\n",
    "            continue\n",
    "        for components in line.split():\n",
    "            key, value = components.split(':')\n",
    "            passport[key] = value\n",
    "            \n",
    "    return passports"
   ]
  },
  {
   "cell_type": "code",
   "execution_count": 85,
   "metadata": {},
   "outputs": [],
   "source": [
    "def check_valids_verbose(passports):\n",
    "    valid = 0\n",
    "    for idx, passport in enumerate(passports, start=1):\n",
    "        missing_fields = []\n",
    "        for field in FIELDS:\n",
    "            if field not in passport:\n",
    "                #print(f'Missing {field}')\n",
    "                missing_fields.append(field)\n",
    "        print(missing_fields)\n",
    "        if (not missing_fields):\n",
    "            valid += 1\n",
    "        print(f'Valid passports: {valid}\\tInvalid passports: {idx-valid}')\n",
    "        print('=========')\n",
    "    return valid"
   ]
  },
  {
   "cell_type": "code",
   "execution_count": 88,
   "metadata": {},
   "outputs": [],
   "source": [
    "def check_valids(passports):\n",
    "    valid = 0\n",
    "    for idx, passport in enumerate(passports, start=1):\n",
    "        missing_fields = []\n",
    "        for field in FIELDS:\n",
    "            if field not in passport:\n",
    "                #print(f'Missing {field}')\n",
    "                missing_fields.append(field)\n",
    "        if (not missing_fields):\n",
    "            valid += 1\n",
    "    return valid"
   ]
  },
  {
   "cell_type": "code",
   "execution_count": 89,
   "metadata": {},
   "outputs": [
    {
     "data": {
      "text/plain": [
       "2"
      ]
     },
     "execution_count": 89,
     "metadata": {},
     "output_type": "execute_result"
    }
   ],
   "source": [
    "check_valids(gen_passport_dict(test_data))"
   ]
  },
  {
   "cell_type": "code",
   "execution_count": 90,
   "metadata": {},
   "outputs": [
    {
     "data": {
      "text/plain": [
       "230"
      ]
     },
     "execution_count": 90,
     "metadata": {},
     "output_type": "execute_result"
    }
   ],
   "source": [
    "check_valids(gen_passport_dict(input_data))"
   ]
  },
  {
   "cell_type": "markdown",
   "metadata": {},
   "source": [
    "### Task 2"
   ]
  },
  {
   "cell_type": "markdown",
   "metadata": {},
   "source": [
    "```\n",
    "byr (Birth Year) - four digits; at least 1920 and at most 2002.\n",
    "iyr (Issue Year) - four digits; at least 2010 and at most 2020.\n",
    "eyr (Expiration Year) - four digits; at least 2020 and at most 2030.\n",
    "hgt (Height) - a number followed by either cm or in:\n",
    "\n",
    "    If cm, the number must be at least 150 and at most 193.\n",
    "    If in, the number must be at least 59 and at most 76.\n",
    "\n",
    "hcl (Hair Color) - a # followed by exactly six characters 0-9 or a-f.\n",
    "ecl (Eye Color) - exactly one of: amb blu brn gry grn hzl oth.\n",
    "pid (Passport ID) - a nine-digit number, including leading zeroes.```"
   ]
  },
  {
   "cell_type": "code",
   "execution_count": 126,
   "metadata": {},
   "outputs": [],
   "source": [
    "valid_passports = '''pid:087499704 hgt:74in ecl:grn iyr:2012 eyr:2030 byr:1980\n",
    "hcl:#623a2f\n",
    "\n",
    "eyr:2029 ecl:blu cid:129 byr:1989\n",
    "iyr:2014 pid:896056539 hcl:#a97842 hgt:165cm\n",
    "\n",
    "hcl:#888785\n",
    "hgt:164cm byr:2001 iyr:2015 cid:88\n",
    "pid:545766238 ecl:hzl\n",
    "eyr:2022\n",
    "\n",
    "iyr:2010 hgt:158cm hcl:#b6652a ecl:blu byr:1944 eyr:2021 pid:093154719\n",
    "'''.split('\\n')\n",
    "\n",
    "invalid_passports = '''eyr:1972 cid:100\n",
    "hcl:#18171d ecl:amb hgt:170 pid:186cm iyr:2018 byr:1926\n",
    "\n",
    "iyr:2019\n",
    "hcl:#602927 eyr:1967 hgt:170cm\n",
    "ecl:grn pid:012533040 byr:1946\n",
    "\n",
    "hcl:dab227 iyr:2012\n",
    "ecl:brn hgt:182cm pid:021572410 eyr:2020 byr:1992 cid:277\n",
    "\n",
    "hgt:59cm ecl:zzz\n",
    "eyr:2038 hcl:74454a iyr:2023\n",
    "pid:3556412378 byr:2007\n",
    "'''.split('\\n')"
   ]
  },
  {
   "cell_type": "code",
   "execution_count": 131,
   "metadata": {},
   "outputs": [],
   "source": [
    "v_passport_dict = gen_passport_dict(valid_passports)\n",
    "iv_passport_dict = gen_passport_dict(invalid_passports)"
   ]
  },
  {
   "cell_type": "code",
   "execution_count": 170,
   "metadata": {},
   "outputs": [],
   "source": [
    "def check_components(passport):\n",
    "    components = []\n",
    "    if 1920 <= int(passport['byr']) <= 2002:\n",
    "        components.append(True)\n",
    "    if 2010 <= int(passport['iyr']) <= 2020:\n",
    "        components.append(True)\n",
    "    if 2020 <= int(passport['eyr']) <= 2030:\n",
    "        components.append(True)\n",
    "    if 'cm' in passport['hgt'] or 'in' in passport['hgt']:\n",
    "        if 'cm' in passport['hgt']: \n",
    "            if 150 <= int(passport['hgt'][:-2]) <= 195:\n",
    "                components.append(True)\n",
    "        if 'in' in passport['hgt']: \n",
    "            if 59 <= int(passport['hgt'][:-2]) <= 76:\n",
    "                components.append(True)\n",
    "    if passport['hcl'].startswith('#') and len(passport['hcl'][1:]):\n",
    "        try:\n",
    "            int(passport['hcl'][1:], base=16)\n",
    "            components.append(True)\n",
    "        except ValueError:\n",
    "            pass\n",
    "    if passport['ecl'] in 'amb blu brn gry grn hzl oth'.split():\n",
    "        components.append(True)\n",
    "    if len(passport['pid']) == 9 and passport['pid'].isdigit():\n",
    "        components.append(True)\n",
    "    \n",
    "    if len(components) == 7:\n",
    "        return 1\n",
    "    else:\n",
    "        return 0"
   ]
  },
  {
   "cell_type": "code",
   "execution_count": 157,
   "metadata": {},
   "outputs": [],
   "source": [
    "def check_valids(passports):\n",
    "    valid = 0\n",
    "    for idx, passport in enumerate(passports, start=1):\n",
    "        missing_fields = []\n",
    "        for field in FIELDS:\n",
    "            if field not in passport:\n",
    "                missing_fields.append(field)\n",
    "        if (not missing_fields):\n",
    "            valid += check_components(passport)\n",
    "    return valid"
   ]
  },
  {
   "cell_type": "code",
   "execution_count": 171,
   "metadata": {},
   "outputs": [
    {
     "name": "stdout",
     "output_type": "stream",
     "text": [
      "[True, True, True, True, True, True, True]\n",
      "[True, True, True, True, True, True, True]\n",
      "[True, True, True, True, True, True, True]\n",
      "[True, True, True, True, True, True, True]\n"
     ]
    },
    {
     "data": {
      "text/plain": [
       "4"
      ]
     },
     "execution_count": 171,
     "metadata": {},
     "output_type": "execute_result"
    }
   ],
   "source": [
    "check_valids(v_passport_dict)"
   ]
  },
  {
   "cell_type": "code",
   "execution_count": 172,
   "metadata": {},
   "outputs": [
    {
     "name": "stdout",
     "output_type": "stream",
     "text": [
      "[True, True, True, True]\n",
      "[True, True, True, True, True, True]\n",
      "[True, True, True, True, True, True]\n",
      "[]\n"
     ]
    },
    {
     "data": {
      "text/plain": [
       "0"
      ]
     },
     "execution_count": 172,
     "metadata": {},
     "output_type": "execute_result"
    }
   ],
   "source": [
    "check_valids(iv_passport_dict)"
   ]
  },
  {
   "cell_type": "code",
   "execution_count": 173,
   "metadata": {},
   "outputs": [
    {
     "name": "stdout",
     "output_type": "stream",
     "text": [
      "[True, True, True, True, True, True]\n",
      "[True, True, True, True, True, True]\n",
      "[True, True, True]\n",
      "[True, True, True, True, True, True]\n",
      "[True, True, True, True, True, True, True]\n",
      "[True, True, True, True, True, True, True]\n",
      "[True, True, True, True, True]\n",
      "[]\n",
      "[]\n",
      "[True, True, True]\n",
      "[True, True, True, True, True, True, True]\n",
      "[True, True, True, True, True, True]\n",
      "[True, True, True, True, True, True, True]\n",
      "[True, True, True]\n",
      "[True, True, True, True, True, True, True]\n",
      "[True, True, True, True, True, True, True]\n",
      "[True, True, True, True, True, True, True]\n",
      "[True, True, True, True, True, True, True]\n",
      "[True, True, True, True, True, True, True]\n",
      "[True, True, True, True, True, True, True]\n",
      "[True, True, True, True, True, True, True]\n",
      "[True, True, True]\n",
      "[True, True]\n",
      "[True, True, True, True, True, True, True]\n",
      "[True, True, True]\n",
      "[]\n",
      "[True, True, True, True, True, True, True]\n",
      "[True, True, True, True, True, True, True]\n",
      "[True, True, True, True, True, True, True]\n",
      "[True, True, True, True, True, True, True]\n",
      "[True, True, True, True, True, True, True]\n",
      "[True, True, True, True, True, True, True]\n",
      "[True, True, True, True, True, True, True]\n",
      "[True, True, True, True, True, True, True]\n",
      "[True, True, True]\n",
      "[True, True, True, True]\n",
      "[True, True]\n",
      "[True, True, True]\n",
      "[True, True]\n",
      "[True, True, True, True, True]\n",
      "[True, True, True, True, True, True, True]\n",
      "[True, True, True, True, True, True, True]\n",
      "[True]\n",
      "[True, True, True, True, True, True, True]\n",
      "[True, True, True, True, True, True, True]\n",
      "[True, True, True, True, True, True, True]\n",
      "[True, True, True, True, True, True, True]\n",
      "[True, True, True, True, True, True]\n",
      "[True, True, True, True, True, True, True]\n",
      "[True, True, True, True, True, True, True]\n",
      "[True, True, True, True, True, True, True]\n",
      "[True, True, True]\n",
      "[True, True, True, True, True, True, True]\n",
      "[True, True, True, True, True, True, True]\n",
      "[True]\n",
      "[True, True, True, True, True, True, True]\n",
      "[True, True, True, True, True, True, True]\n",
      "[True, True]\n",
      "[True, True, True, True, True, True, True]\n",
      "[True, True, True, True]\n",
      "[True, True]\n",
      "[True, True, True, True, True, True, True]\n",
      "[True, True, True, True, True]\n",
      "[True, True, True, True, True, True, True]\n",
      "[True, True, True, True, True]\n",
      "[True, True, True, True, True, True, True]\n",
      "[]\n",
      "[True, True, True, True, True]\n",
      "[True, True, True, True, True, True, True]\n",
      "[True, True, True, True, True, True]\n",
      "[True]\n",
      "[True, True, True, True, True, True, True]\n",
      "[True, True, True]\n",
      "[True, True, True, True, True]\n",
      "[True, True, True, True, True, True, True]\n",
      "[True, True, True, True, True, True, True]\n",
      "[True, True, True, True, True, True, True]\n",
      "[True, True, True, True, True, True, True]\n",
      "[True]\n",
      "[True, True, True, True, True, True]\n",
      "[True, True, True, True]\n",
      "[]\n",
      "[True, True, True, True, True, True, True]\n",
      "[True, True, True, True]\n",
      "[True, True, True, True, True, True, True]\n",
      "[True, True, True, True, True, True, True]\n",
      "[]\n",
      "[True, True, True, True, True, True, True]\n",
      "[True, True, True, True, True, True, True]\n",
      "[True, True, True, True, True, True, True]\n",
      "[True, True, True, True, True, True, True]\n",
      "[True, True, True, True, True, True, True]\n",
      "[True, True, True, True, True, True]\n",
      "[True, True, True, True, True, True, True]\n",
      "[True, True, True, True, True, True, True]\n",
      "[True, True, True, True, True, True, True]\n",
      "[True, True, True, True, True, True, True]\n",
      "[True, True, True]\n",
      "[True, True, True, True, True, True, True]\n",
      "[True, True]\n",
      "[True, True, True, True, True, True, True]\n",
      "[True, True, True, True, True, True, True]\n",
      "[True, True, True, True, True, True, True]\n",
      "[True, True, True, True, True, True, True]\n",
      "[True, True, True, True, True, True, True]\n",
      "[True, True, True, True, True, True, True]\n",
      "[True, True, True, True, True, True, True]\n",
      "[True, True, True, True, True, True, True]\n",
      "[True, True, True, True, True, True, True]\n",
      "[True, True, True, True, True, True]\n",
      "[True, True, True, True]\n",
      "[True, True, True, True, True, True]\n",
      "[True, True, True, True, True, True, True]\n",
      "[True, True, True, True, True, True, True]\n",
      "[True, True, True, True, True, True, True]\n",
      "[True, True, True, True, True, True, True]\n",
      "[True, True, True, True, True, True, True]\n",
      "[True, True, True, True, True, True, True]\n",
      "[True, True, True, True, True, True, True]\n",
      "[True, True, True, True, True, True, True]\n",
      "[True, True, True, True, True, True, True]\n",
      "[True, True, True, True, True, True, True]\n",
      "[]\n",
      "[True, True, True, True, True, True, True]\n",
      "[True, True]\n",
      "[True, True]\n",
      "[True, True, True, True, True, True, True]\n",
      "[True, True]\n",
      "[True, True, True, True, True, True, True]\n",
      "[True, True, True, True, True, True, True]\n",
      "[True, True, True, True, True, True, True]\n",
      "[True, True, True, True, True, True, True]\n",
      "[True, True, True, True, True, True, True]\n",
      "[True, True, True, True, True, True, True]\n",
      "[True, True, True, True, True, True, True]\n",
      "[True, True, True, True, True, True, True]\n",
      "[True, True, True, True, True, True, True]\n",
      "[True, True, True, True, True, True, True]\n",
      "[True, True, True, True, True, True, True]\n",
      "[True, True, True, True, True, True, True]\n",
      "[True, True, True, True, True, True, True]\n",
      "[True, True, True, True, True, True, True]\n",
      "[True, True, True, True, True]\n",
      "[True, True, True, True, True, True, True]\n",
      "[True, True, True, True, True, True, True]\n",
      "[True, True, True, True, True, True, True]\n",
      "[True, True, True, True, True, True, True]\n",
      "[True, True, True, True, True, True, True]\n",
      "[True, True, True, True, True, True, True]\n",
      "[True]\n",
      "[True, True, True, True, True, True, True]\n",
      "[True, True, True, True]\n",
      "[True, True, True]\n",
      "[True, True, True, True, True]\n",
      "[True, True, True, True, True, True, True]\n",
      "[True, True, True, True, True, True, True]\n",
      "[True, True, True, True, True, True, True]\n",
      "[True, True, True, True, True, True, True]\n",
      "[True, True, True, True, True, True, True]\n",
      "[True, True, True, True, True, True, True]\n",
      "[True, True, True, True, True, True, True]\n",
      "[True, True, True, True, True, True, True]\n",
      "[True, True, True, True, True, True, True]\n",
      "[True, True, True, True, True, True, True]\n",
      "[True, True, True, True, True, True, True]\n",
      "[True, True, True, True, True, True, True]\n",
      "[True, True]\n",
      "[True, True, True, True, True, True, True]\n",
      "[True, True, True, True, True, True, True]\n",
      "[True, True, True, True, True, True, True]\n",
      "[True, True, True, True, True, True, True]\n",
      "[True, True, True, True, True, True, True]\n",
      "[True, True, True, True, True, True]\n",
      "[True, True, True, True, True, True, True]\n",
      "[True, True, True, True, True, True]\n",
      "[True, True, True, True, True, True, True]\n",
      "[True, True, True, True, True, True, True]\n",
      "[True, True, True, True, True, True, True]\n",
      "[True, True, True, True, True, True, True]\n",
      "[True, True, True, True, True, True, True]\n",
      "[True, True, True, True, True, True, True]\n",
      "[True, True, True, True, True, True, True]\n",
      "[True, True, True, True, True, True, True]\n",
      "[True, True, True, True, True, True, True]\n",
      "[True]\n",
      "[True, True, True, True, True, True, True]\n",
      "[True, True, True, True, True, True, True]\n",
      "[True, True, True, True, True, True, True]\n",
      "[True, True, True, True, True, True, True]\n",
      "[True, True, True, True, True, True, True]\n",
      "[True, True, True, True, True, True]\n",
      "[True, True, True, True, True, True, True]\n",
      "[True, True, True, True, True, True, True]\n",
      "[True, True, True, True, True, True]\n",
      "[True, True, True, True, True, True, True]\n",
      "[True, True, True, True, True, True, True]\n",
      "[]\n",
      "[True, True]\n",
      "[True, True, True, True, True, True, True]\n",
      "[True, True, True, True]\n",
      "[True, True, True, True, True, True, True]\n",
      "[True, True, True, True, True, True, True]\n",
      "[True, True, True, True, True, True, True]\n",
      "[True, True, True, True, True, True, True]\n",
      "[True, True, True, True, True, True, True]\n",
      "[True, True, True]\n",
      "[True, True, True, True]\n",
      "[True, True, True, True, True, True, True]\n",
      "[True, True, True, True, True, True, True]\n",
      "[]\n",
      "[True, True, True, True, True, True, True]\n",
      "[True]\n",
      "[True, True, True, True, True, True, True]\n",
      "[True, True, True, True, True, True]\n",
      "[True, True, True, True, True, True, True]\n",
      "[True, True, True, True, True, True, True]\n",
      "[True, True, True, True, True, True, True]\n",
      "[True, True, True, True, True, True, True]\n",
      "[True, True, True, True, True, True, True]\n",
      "[True, True, True, True, True, True, True]\n",
      "[True, True, True, True, True, True, True]\n",
      "[True, True, True, True, True, True, True]\n",
      "[True, True, True, True, True]\n",
      "[True, True, True, True, True, True]\n",
      "[True, True, True, True, True, True, True]\n",
      "[True, True, True, True, True, True, True]\n",
      "[True, True, True]\n",
      "[True]\n",
      "[True, True, True, True, True, True, True]\n",
      "[True, True, True, True, True, True, True]\n"
     ]
    },
    {
     "data": {
      "text/plain": [
       "156"
      ]
     },
     "execution_count": 173,
     "metadata": {},
     "output_type": "execute_result"
    }
   ],
   "source": [
    "check_valids(gen_passport_dict(input_data))"
   ]
  },
  {
   "cell_type": "code",
   "execution_count": null,
   "metadata": {},
   "outputs": [],
   "source": []
  }
 ],
 "metadata": {
  "kernelspec": {
   "display_name": "Python 3",
   "language": "python",
   "name": "python3"
  },
  "language_info": {
   "codemirror_mode": {
    "name": "ipython",
    "version": 3
   },
   "file_extension": ".py",
   "mimetype": "text/x-python",
   "name": "python",
   "nbconvert_exporter": "python",
   "pygments_lexer": "ipython3",
   "version": "3.8.3"
  }
 },
 "nbformat": 4,
 "nbformat_minor": 4
}
