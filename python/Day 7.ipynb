{
 "cells": [
  {
   "cell_type": "code",
   "execution_count": 69,
   "metadata": {},
   "outputs": [],
   "source": [
    "with open('day7_input.txt') as f:\n",
    "    data = f.read().replace('bags', 'bag').replace('.', '').split('\\n')"
   ]
  },
  {
   "cell_type": "code",
   "execution_count": 35,
   "metadata": {},
   "outputs": [],
   "source": [
    "rules = '''light red bags contain 1 bright white bag, 2 muted yellow bags.\n",
    "dark orange bags contain 3 bright white bags, 4 muted yellow bags.\n",
    "bright white bags contain 1 shiny gold bag.\n",
    "muted yellow bags contain 2 shiny gold bags, 9 faded blue bags.\n",
    "shiny gold bags contain 1 dark olive bag, 2 vibrant plum bags.\n",
    "dark olive bags contain 3 faded blue bags, 4 dotted black bags.\n",
    "vibrant plum bags contain 5 faded blue bags, 6 dotted black bags.\n",
    "faded blue bags contain no other bags.\n",
    "dotted black bags contain no other bags.'''.replace('bags', 'bag').replace('.', '').split('\\n')"
   ]
  },
  {
   "cell_type": "code",
   "execution_count": 114,
   "metadata": {},
   "outputs": [
    {
     "data": {
      "text/plain": [
       "('1', '2', '3', '4', '5', '6', '7', '8', '9', '0')"
      ]
     },
     "execution_count": 114,
     "metadata": {},
     "output_type": "execute_result"
    }
   ],
   "source": [
    "tuple('1 2 3 4 5 6 7 8 9 0'.split())"
   ]
  },
  {
   "cell_type": "code",
   "execution_count": 353,
   "metadata": {},
   "outputs": [],
   "source": [
    "def gen_bags_dict(rules):\n",
    "    bags = {}\n",
    "    for rule in rules:\n",
    "        contents = rule.split(' contain ')[1].split(', ')\n",
    "        cleaned = []\n",
    "        for content in contents:\n",
    "            if content.startswith(tuple('1 2 3 4 5 6 7 8 9 0'.split())):\n",
    "                cleaned.append(content[2:])\n",
    "            else: cleaned.append([])\n",
    "        bags[rule.split(' contain ')[0]] = cleaned\n",
    "    return bags"
   ]
  },
  {
   "cell_type": "code",
   "execution_count": 265,
   "metadata": {},
   "outputs": [],
   "source": [
    "def check_bag_old(curr_bag, count=0, level=0):\n",
    "    print(f'{curr_bag} contains {bags[curr_bag]}, count')\n",
    "    for bag in bags[curr_bag]:\n",
    "        print(bag[1])\n",
    "        level += 1\n",
    "        #print(f'Checking {bag}, count: {count}')\n",
    "        if bag == 'shiny gold bag':\n",
    "            count += 1\n",
    "            print(f'Gold bag! count: {count}, level: {level}')\n",
    "            return True\n",
    "        elif bag == 'no other bag':\n",
    "            print(f'No other bags, stopping! count: {count}, level: {level}')\n",
    "            return False\n",
    "        else:\n",
    "            print(f'Recursing into bag {bag}, count: {count}, level: {level}')\n",
    "            count = sum(check_bag(bag[1], count, level))\n",
    "    return count"
   ]
  },
  {
   "cell_type": "code",
   "execution_count": 395,
   "metadata": {},
   "outputs": [],
   "source": [
    "def check_bag(curr_bag, bags=bags, count=0):\n",
    "    #print(curr_bag, 'contains', bags[curr_bag])\n",
    "    if curr_bag == 'shiny gold bag':\n",
    "        #print('Found a shiny gold!', count)\n",
    "        return True\n",
    "    elif curr_bag == 'no other bag':\n",
    "        #print('Stopping!')\n",
    "        return False\n",
    "    elif count > 0:\n",
    "        return True\n",
    "    else:\n",
    "        #print('-----------------')\n",
    "        for bag in bags[curr_bag]:\n",
    "            if bag:\n",
    "                #print(f'Checking {bag}')\n",
    "                if check_bag(bag, count=count):\n",
    "                    #print('Contains a shiny gold')\n",
    "                    return True"
   ]
  },
  {
   "cell_type": "code",
   "execution_count": 395,
   "metadata": {},
   "outputs": [],
   "source": [
    "def check_bag(curr_bag, bags=bags, count=0):\n",
    "    if curr_bag == 'shiny gold bag':\n",
    "        return True\n",
    "    elif curr_bag == 'no other bag':\n",
    "        return False\n",
    "    elif count > 0:\n",
    "        return True\n",
    "    else:\n",
    "        for bag in bags[curr_bag]:\n",
    "            if bag:\n",
    "                if check_bag(bag, count=count):\n",
    "                    return True"
   ]
  },
  {
   "cell_type": "code",
   "execution_count": 396,
   "metadata": {
    "scrolled": true
   },
   "outputs": [
    {
     "name": "stdout",
     "output_type": "stream",
     "text": [
      "242\n"
     ]
    }
   ],
   "source": [
    "count = 0\n",
    "bags = gen_bags_dict(data)\n",
    "for bag in bags:\n",
    "    if bag == 'shiny gold bag':\n",
    "        continue\n",
    "    else:\n",
    "        if check_bag(bag, bags=bags):\n",
    "            count += 1\n",
    "\n",
    "print(count)"
   ]
  },
  {
   "cell_type": "code",
   "execution_count": 391,
   "metadata": {},
   "outputs": [
    {
     "data": {
      "text/plain": [
       "242"
      ]
     },
     "execution_count": 391,
     "metadata": {},
     "output_type": "execute_result"
    }
   ],
   "source": [
    "count"
   ]
  },
  {
   "cell_type": "code",
   "execution_count": 385,
   "metadata": {},
   "outputs": [
    {
     "data": {
      "text/plain": [
       "['striped teal bag', 'wavy blue bag', 'shiny brown bag', 'plaid fuchsia bag']"
      ]
     },
     "execution_count": 385,
     "metadata": {},
     "output_type": "execute_result"
    }
   ],
   "source": [
    "bags['light indigo bag']"
   ]
  },
  {
   "cell_type": "markdown",
   "metadata": {},
   "source": [
    "### Task 2"
   ]
  },
  {
   "cell_type": "code",
   "execution_count": 503,
   "metadata": {},
   "outputs": [],
   "source": [
    "new_rules = '''shiny gold bags contain 2 dark red bags.\n",
    "dark red bags contain 2 dark orange bags.\n",
    "dark orange bags contain 2 dark yellow bags.\n",
    "dark yellow bags contain 2 dark green bags.\n",
    "dark green bags contain 2 dark blue bags.\n",
    "dark blue bags contain 2 dark violet bags.\n",
    "dark violet bags contain no other bags.'''.replace('bags', 'bag').replace('.', '').split('\\n')"
   ]
  },
  {
   "cell_type": "code",
   "execution_count": 1032,
   "metadata": {},
   "outputs": [],
   "source": [
    "def gen_bags_dict_two(rules):\n",
    "    bags = {}\n",
    "    for rule in rules:\n",
    "        contents = rule.split(' contain ')[1].split(', ')\n",
    "        cleaned = []\n",
    "        for content in contents:\n",
    "            if content.startswith(tuple('1 2 3 4 5 6 7 8 9 0'.split())):\n",
    "                cleaned.append((int(content[0]), content[2:]))\n",
    "            else: cleaned.append([])\n",
    "        bags[rule.split(' contain ')[0]] = cleaned\n",
    "    return bags"
   ]
  },
  {
   "cell_type": "code",
   "execution_count": 733,
   "metadata": {},
   "outputs": [],
   "source": [
    "def check_bag_contents(curr_num, curr_bag, bags=bags, count=0):\n",
    "    print(curr_num)\n",
    "    if curr_bag == [[]]:\n",
    "        return int(curr_num)\n",
    "    for num, bag in curr_bag:\n",
    "        curr_num *= check_bag_contents(int(num), bags[bag])\n",
    "        print(f'{curr_num} {bag} contains {check_bag_contents(int(num), bags[bag])} each.')\n",
    "        return curr_num"
   ]
  },
  {
   "cell_type": "code",
   "execution_count": 1091,
   "metadata": {},
   "outputs": [],
   "source": [
    "def check_bag_contents(curr_num, curr_bag, bags=bags):\n",
    "    if curr_bag == [[]]:\n",
    "        return 0\n",
    "    \n",
    "    count = 0\n",
    "    for num, bag in curr_bag:\n",
    "        next_level = check_bag_contents(num, bags[bag])\n",
    "        if next_level == 0:\n",
    "            count += num\n",
    "        else:\n",
    "            count += num * next_level + num\n",
    "    return count"
   ]
  },
  {
   "cell_type": "code",
   "execution_count": 1092,
   "metadata": {
    "scrolled": false
   },
   "outputs": [
    {
     "data": {
      "text/plain": [
       "176035"
      ]
     },
     "execution_count": 1092,
     "metadata": {},
     "output_type": "execute_result"
    }
   ],
   "source": [
    "count = 0\n",
    "bags = gen_bags_dict_two(data)\n",
    "\n",
    "check_bag_contents(1, bags['shiny gold bag'], bags)"
   ]
  },
  {
   "cell_type": "code",
   "execution_count": 851,
   "metadata": {},
   "outputs": [
    {
     "data": {
      "text/plain": [
       "{'shiny gold bag': [('2', 'dark red bag')],\n",
       " 'dark red bag': [('2', 'dark orange bag')],\n",
       " 'dark orange bag': [('2', 'dark yellow bag')],\n",
       " 'dark yellow bag': [('2', 'dark green bag')],\n",
       " 'dark green bag': [('2', 'dark blue bag')],\n",
       " 'dark blue bag': [('2', 'dark violet bag')],\n",
       " 'dark violet bag': [[]]}"
      ]
     },
     "execution_count": 851,
     "metadata": {},
     "output_type": "execute_result"
    }
   ],
   "source": [
    "bags"
   ]
  },
  {
   "cell_type": "code",
   "execution_count": null,
   "metadata": {},
   "outputs": [],
   "source": []
  }
 ],
 "metadata": {
  "kernelspec": {
   "display_name": "Python 3",
   "language": "python",
   "name": "python3"
  },
  "language_info": {
   "codemirror_mode": {
    "name": "ipython",
    "version": 3
   },
   "file_extension": ".py",
   "mimetype": "text/x-python",
   "name": "python",
   "nbconvert_exporter": "python",
   "pygments_lexer": "ipython3",
   "version": "3.8.3"
  }
 },
 "nbformat": 4,
 "nbformat_minor": 4
}
