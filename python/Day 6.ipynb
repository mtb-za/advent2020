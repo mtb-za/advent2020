{
 "cells": [
  {
   "cell_type": "code",
   "execution_count": 75,
   "metadata": {},
   "outputs": [],
   "source": [
    "test_input = '''abc\n",
    "\n",
    "a\n",
    "b\n",
    "c\n",
    "\n",
    "ab\n",
    "ac\n",
    "\n",
    "a\n",
    "a\n",
    "a\n",
    "a\n",
    "\n",
    "b\n",
    "'''.split('\\n')"
   ]
  },
  {
   "cell_type": "code",
   "execution_count": 15,
   "metadata": {},
   "outputs": [],
   "source": [
    "def check_answers(data):\n",
    "    group_answers = []\n",
    "    curr_answers = []\n",
    "    cumsum = 0\n",
    "    for row in data:\n",
    "        if not row:\n",
    "            group_answers.append(cumsum)\n",
    "            cumsum = 0\n",
    "            curr_answers = []\n",
    "            continue\n",
    "        for ans in row:\n",
    "            if ans in curr_answers:\n",
    "                continue\n",
    "            else:\n",
    "                curr_answers.append(ans)\n",
    "                cumsum += 1\n",
    "\n",
    "    return sum(group_answers)"
   ]
  },
  {
   "cell_type": "code",
   "execution_count": 16,
   "metadata": {},
   "outputs": [
    {
     "data": {
      "text/plain": [
       "11"
      ]
     },
     "execution_count": 16,
     "metadata": {},
     "output_type": "execute_result"
    }
   ],
   "source": [
    "check_answers(test_input)"
   ]
  },
  {
   "cell_type": "code",
   "execution_count": 18,
   "metadata": {},
   "outputs": [],
   "source": [
    "with open('day6_input.txt') as f:\n",
    "    input_data = f.read().split('\\n')"
   ]
  },
  {
   "cell_type": "code",
   "execution_count": 19,
   "metadata": {},
   "outputs": [
    {
     "data": {
      "text/plain": [
       "6782"
      ]
     },
     "execution_count": 19,
     "metadata": {},
     "output_type": "execute_result"
    }
   ],
   "source": [
    "check_answers(input_data)"
   ]
  },
  {
   "cell_type": "markdown",
   "metadata": {},
   "source": [
    "### Part 2"
   ]
  },
  {
   "cell_type": "code",
   "execution_count": 71,
   "metadata": {},
   "outputs": [],
   "source": [
    "def check_answers_two(data):\n",
    "    group_answers = []\n",
    "    curr_answers = []\n",
    "    cumsum = 0\n",
    "    row_count = 0\n",
    "    for row in data:\n",
    "        if not row:\n",
    "            for ans in 'abcdefghijklmnopqrstuvwxyz':\n",
    "                if curr_answers.count(ans) == row_count:\n",
    "                    cumsum += 1\n",
    "            group_answers.append(cumsum)\n",
    "            cumsum, row_count = 0, 0\n",
    "            curr_answers = []\n",
    "            continue\n",
    "        for ans in row:\n",
    "            curr_answers.append(ans)\n",
    "        row_count += 1\n",
    "\n",
    "    return sum(group_answers)"
   ]
  },
  {
   "cell_type": "code",
   "execution_count": 72,
   "metadata": {},
   "outputs": [
    {
     "data": {
      "text/plain": [
       "6"
      ]
     },
     "execution_count": 72,
     "metadata": {},
     "output_type": "execute_result"
    }
   ],
   "source": [
    "check_answers_two(test_input)"
   ]
  },
  {
   "cell_type": "code",
   "execution_count": 73,
   "metadata": {},
   "outputs": [
    {
     "data": {
      "text/plain": [
       "3596"
      ]
     },
     "execution_count": 73,
     "metadata": {},
     "output_type": "execute_result"
    }
   ],
   "source": [
    "check_answers_two(input_data)"
   ]
  },
  {
   "cell_type": "markdown",
   "metadata": {},
   "source": [
    "### Better way?"
   ]
  },
  {
   "cell_type": "code",
   "execution_count": 93,
   "metadata": {},
   "outputs": [],
   "source": [
    "test_input = '''abc\n",
    "\n",
    "a\n",
    "b\n",
    "c\n",
    "\n",
    "ab\n",
    "ac\n",
    "\n",
    "a\n",
    "a\n",
    "a\n",
    "a\n",
    "\n",
    "b\n",
    "\n",
    "'''.split('\\n\\n')"
   ]
  },
  {
   "cell_type": "code",
   "execution_count": 105,
   "metadata": {},
   "outputs": [],
   "source": [
    "with open('day6_input.txt') as f:\n",
    "    input_data = f.read().split('\\n\\n')"
   ]
  },
  {
   "cell_type": "code",
   "execution_count": 107,
   "metadata": {},
   "outputs": [
    {
     "name": "stdout",
     "output_type": "stream",
     "text": [
      "6782\n"
     ]
    }
   ],
   "source": [
    "total = 0\n",
    "for group in input_data:\n",
    "    group = group.replace('\\n', '')\n",
    "    for ans in 'abcdefghijklmnopqrstuvwxyz':\n",
    "        if ans in group:\n",
    "            total += 1\n",
    "print(total)"
   ]
  },
  {
   "cell_type": "code",
   "execution_count": 108,
   "metadata": {},
   "outputs": [
    {
     "data": {
      "text/plain": [
       "3596"
      ]
     },
     "execution_count": 108,
     "metadata": {},
     "output_type": "execute_result"
    }
   ],
   "source": [
    "total = 0\n",
    "for group in input_data:\n",
    "    group_size = group.count('\\n') + 1\n",
    "    for ans in 'abcdefghijklmnopqrstuvwxyz':\n",
    "        if ans in group and group.count(ans) == group_size:\n",
    "            total += 1\n",
    "            group_total += 1\n",
    "            \n",
    "print(total)"
   ]
  },
  {
   "cell_type": "code",
   "execution_count": 112,
   "metadata": {},
   "outputs": [
    {
     "data": {
      "text/plain": [
       "{'b', 'f', 'j', 'k', 'm', 'n', 'o', 'p', 'q', 'r', 's', 'u', 'x', 'y'}"
      ]
     },
     "execution_count": 112,
     "metadata": {},
     "output_type": "execute_result"
    }
   ],
   "source": [
    "set(group.replace('\\n', '')).intersection(set(group))"
   ]
  },
  {
   "cell_type": "code",
   "execution_count": null,
   "metadata": {},
   "outputs": [],
   "source": [
    "set(group)"
   ]
  }
 ],
 "metadata": {
  "kernelspec": {
   "display_name": "Python 3",
   "language": "python",
   "name": "python3"
  },
  "language_info": {
   "codemirror_mode": {
    "name": "ipython",
    "version": 3
   },
   "file_extension": ".py",
   "mimetype": "text/x-python",
   "name": "python",
   "nbconvert_exporter": "python",
   "pygments_lexer": "ipython3",
   "version": "3.8.3"
  }
 },
 "nbformat": 4,
 "nbformat_minor": 4
}
